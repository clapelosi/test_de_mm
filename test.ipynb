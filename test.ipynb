{
 "cells": [
  {
   "cell_type": "code",
   "execution_count": 1,
   "metadata": {},
   "outputs": [],
   "source": [
    "test_string = '10 esperienze mozzafiato da vita\\n 10 esperienze mozzafiato da vita\\n 10 esperienze mozzafiato da vita\\n 10 esperienze mozzafiato da vita\\n vita breve pensano riuscire viverla pieno debbano esperienze estreme ricerca nuove avventure amate adrenalina non potete meno sperimentare situazioni pericolose sito giusto seguito riportata classifica 10 esperienze mozzafiato da vita\\n'"
   ]
  },
  {
   "cell_type": "code",
   "execution_count": 2,
   "metadata": {},
   "outputs": [],
   "source": [
    "a = len(test_string.split())"
   ]
  },
  {
   "cell_type": "code",
   "execution_count": 3,
   "metadata": {},
   "outputs": [
    {
     "name": "stdout",
     "output_type": "stream",
     "text": [
      "50\n"
     ]
    }
   ],
   "source": [
    "print(a)"
   ]
  },
  {
   "cell_type": "code",
   "execution_count": 4,
   "metadata": {},
   "outputs": [],
   "source": [
    "txt = list(set(test_string.split()))"
   ]
  },
  {
   "cell_type": "code",
   "execution_count": 5,
   "metadata": {},
   "outputs": [
    {
     "name": "stdout",
     "output_type": "stream",
     "text": [
      "['non', 'ricerca', 'avventure', '10', 'sito', 'riuscire', 'pensano', 'esperienze', 'sperimentare', 'debbano', 'da', 'breve', 'pieno', 'situazioni', 'giusto', 'mozzafiato', 'amate', 'estreme', 'riportata', 'potete', 'adrenalina', 'vita', 'pericolose', 'nuove', 'seguito', 'meno', 'viverla', 'classifica']\n"
     ]
    }
   ],
   "source": [
    "print(txt)"
   ]
  },
  {
   "cell_type": "code",
   "execution_count": 7,
   "metadata": {},
   "outputs": [
    {
     "name": "stdout",
     "output_type": "stream",
     "text": [
      "28\n"
     ]
    }
   ],
   "source": [
    "print(len(txt))"
   ]
  },
  {
   "cell_type": "code",
   "execution_count": 23,
   "metadata": {},
   "outputs": [],
   "source": [
    "import re\n",
    "\n",
    "test_string_clean = re.sub(r'\\d+', '', test_string).replace('\\n', ' ').replace('   ', ' ')"
   ]
  },
  {
   "cell_type": "code",
   "execution_count": 24,
   "metadata": {},
   "outputs": [
    {
     "name": "stdout",
     "output_type": "stream",
     "text": [
      " esperienze mozzafiato da vita esperienze mozzafiato da vita esperienze mozzafiato da vita esperienze mozzafiato da vita  vita breve pensano riuscire viverla pieno debbano esperienze estreme ricerca nuove avventure amate adrenalina non potete meno sperimentare situazioni pericolose sito giusto seguito riportata classifica  esperienze mozzafiato da vita \n"
     ]
    }
   ],
   "source": [
    "print(test_string_clean)"
   ]
  },
  {
   "cell_type": "code",
   "execution_count": null,
   "metadata": {},
   "outputs": [],
   "source": []
  }
 ],
 "metadata": {
  "kernelspec": {
   "display_name": "Python 3",
   "language": "python",
   "name": "python3"
  },
  "language_info": {
   "codemirror_mode": {
    "name": "ipython",
    "version": 3
   },
   "file_extension": ".py",
   "mimetype": "text/x-python",
   "name": "python",
   "nbconvert_exporter": "python",
   "pygments_lexer": "ipython3",
   "version": "3.10.11"
  },
  "orig_nbformat": 4
 },
 "nbformat": 4,
 "nbformat_minor": 2
}
